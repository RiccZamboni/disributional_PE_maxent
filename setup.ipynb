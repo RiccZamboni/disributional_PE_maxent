{
 "cells": [
  {
   "cell_type": "code",
   "execution_count": 2,
   "metadata": {},
   "outputs": [],
   "source": [
    "# imports \n",
    "\n",
    "import json\n",
    "import os\n",
    "import random\n",
    "import numpy as np\n",
    "import gym\n",
    "from itertools import product\n",
    "\n",
    "with open( \"full_search_dict_3_ICE_1000_12_20_18.json\" , \"r\" ) as data:\n",
    "    res = json.load(data)\n",
    "dep = 0\n",
    "output = dict()\n",
    "output['B_tot'] = list()\n",
    "output['L'] = list()\n",
    "output['B'] = list()\n",
    "\n",
    "\n",
    "def read(dict, out, step):\n",
    "    out['B_tot'].append(dict['B_tot'])\n",
    "    out['L'].append(dict['L'])\n",
    "    out['B'].append(dict['B'])\n",
    "    if dict['children']:\n",
    "        np.random.seed()\n",
    "        c = random.randint(0, len(dict['children']) - 1)\n",
    "        out['B_tot'].append(read(dict['children'][str(c)], out, step)['B_tot'])\n",
    "        out['L'].append(read(dict['children'][str(c)], out, step)['L'])\n",
    "        out['B'].append(read(dict['children'][str(c)], out, step)['B'])\n",
    "    return out\n",
    "\n",
    "\n",
    "output  = read(res, output, 0)\n",
    "\n",
    "B_tot = list()\n",
    "B = list()\n",
    "L = list()\n",
    "for k in range(30):\n",
    "    B_tot.append(output['B_tot'][k])\n",
    "    B.append(output['B'][k])\n",
    "    L.append(output['L'][k])\n",
    "\n",
    "\n"
   ]
  },
  {
   "cell_type": "code",
   "execution_count": 2,
   "metadata": {},
   "outputs": [
    {
     "ename": "NameError",
     "evalue": "name 'kl_est' is not defined",
     "output_type": "error",
     "traceback": [
      "\u001b[0;31m---------------------------------------------------------------------------\u001b[0m",
      "\u001b[0;31mNameError\u001b[0m                                 Traceback (most recent call last)",
      "\u001b[1;32m/home/riccardo/value_max_ent/setup.ipynb Cell 2\u001b[0m in \u001b[0;36m<cell line: 3>\u001b[0;34m()\u001b[0m\n\u001b[1;32m      <a href='vscode-notebook-cell://ssh-remote%2Briccardo-tesla/home/riccardo/value_max_ent/setup.ipynb#W1sdnNjb2RlLXJlbW90ZQ%3D%3D?line=0'>1</a>\u001b[0m \u001b[39mimport\u001b[39;00m \u001b[39mmatplotlib\u001b[39;00m\u001b[39m.\u001b[39;00m\u001b[39mpyplot\u001b[39;00m \u001b[39mas\u001b[39;00m \u001b[39mplt\u001b[39;00m\n\u001b[1;32m      <a href='vscode-notebook-cell://ssh-remote%2Briccardo-tesla/home/riccardo/value_max_ent/setup.ipynb#W1sdnNjb2RlLXJlbW90ZQ%3D%3D?line=1'>2</a>\u001b[0m \u001b[39mimport\u001b[39;00m \u001b[39mnumpy\u001b[39;00m \u001b[39mas\u001b[39;00m \u001b[39mnp\u001b[39;00m\n\u001b[0;32m----> <a href='vscode-notebook-cell://ssh-remote%2Briccardo-tesla/home/riccardo/value_max_ent/setup.ipynb#W1sdnNjb2RlLXJlbW90ZQ%3D%3D?line=2'>3</a>\u001b[0m kl_est\n\u001b[1;32m      <a href='vscode-notebook-cell://ssh-remote%2Briccardo-tesla/home/riccardo/value_max_ent/setup.ipynb#W1sdnNjb2RlLXJlbW90ZQ%3D%3D?line=3'>4</a>\u001b[0m \u001b[39m# Data for plotting\u001b[39;00m\n\u001b[1;32m      <a href='vscode-notebook-cell://ssh-remote%2Briccardo-tesla/home/riccardo/value_max_ent/setup.ipynb#W1sdnNjb2RlLXJlbW90ZQ%3D%3D?line=4'>5</a>\u001b[0m t \u001b[39m=\u001b[39m np\u001b[39m.\u001b[39marange(\u001b[39mlen\u001b[39m(kl_est))\n",
      "\u001b[0;31mNameError\u001b[0m: name 'kl_est' is not defined"
     ]
    }
   ],
   "source": [
    "import matplotlib.pyplot as plt\n",
    "import numpy as np\n",
    "kl_est\n",
    "# Data for plotting\n",
    "t = np.arange(len(kl_est))\n",
    "s = 1 + np.sin(2 * np.pi * t)\n",
    "s2 = 1 + np.sin(4 * np.pi * t)\n",
    "\n",
    "fig, ax = plt.subplots()\n",
    "ax.plot(t, kl_est)\n",
    "ax.plot(t, s2)\n",
    "\n",
    "ax.set(xlabel='N', ylabel='RMSE', title='Error Plot')\n",
    "ax.grid()\n",
    "plt.yscale('log')\n",
    "\n",
    "plt.show()"
   ]
  }
 ],
 "metadata": {
  "kernelspec": {
   "display_name": "maxent",
   "language": "python",
   "name": "python3"
  },
  "language_info": {
   "codemirror_mode": {
    "name": "ipython",
    "version": 3
   },
   "file_extension": ".py",
   "mimetype": "text/x-python",
   "name": "python",
   "nbconvert_exporter": "python",
   "pygments_lexer": "ipython3",
   "version": "3.10.8"
  },
  "orig_nbformat": 4,
  "vscode": {
   "interpreter": {
    "hash": "bf03d02dd787d733cbe72815a07cc3b900899f64e2a841fdc0060656177e5d4b"
   }
  }
 },
 "nbformat": 4,
 "nbformat_minor": 2
}
