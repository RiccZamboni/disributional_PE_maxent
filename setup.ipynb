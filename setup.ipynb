{
 "cells": [
  {
   "cell_type": "code",
   "execution_count": 46,
   "metadata": {},
   "outputs": [
    {
     "data": {
      "text/plain": [
       "(False, (2, 2, 2))"
      ]
     },
     "execution_count": 46,
     "metadata": {},
     "output_type": "execute_result"
    }
   ],
   "source": [
    "# imports \n",
    "\n",
    "import json\n",
    "import os\n",
    "import random\n",
    "import numpy as np\n",
    "import gym\n",
    "from itertools import product\n",
    "\n",
    "state_space = list(product(np.arange(0,3), np.arange(0,3), np.arange(0,3)))\n",
    "\n",
    "def make_functions(state_space):\n",
    "    s = 0\n",
    "    l = []\n",
    "    for state in state_space:\n",
    "        s += 1\n",
    "        def method(self, input):\n",
    "            return input == state, state\n",
    "        method.__name__ = 'f_{}'.format(state)\n",
    "        l.append(method)\n",
    "    return l\n",
    "\n",
    "o = make_functions(state_space)\n",
    "f = o[1]\n",
    "f(2)"
   ]
  },
  {
   "cell_type": "code",
   "execution_count": 87,
   "metadata": {},
   "outputs": [
    {
     "ename": "NameError",
     "evalue": "name 'state_n' is not defined",
     "output_type": "error",
     "traceback": [
      "\u001b[0;31m---------------------------------------------------------------------------\u001b[0m",
      "\u001b[0;31mNameError\u001b[0m                                 Traceback (most recent call last)",
      "\u001b[1;32m/home/riccardo/value_max_ent/setup.ipynb Cell 2\u001b[0m in \u001b[0;36m<cell line: 25>\u001b[0;34m()\u001b[0m\n\u001b[1;32m     <a href='vscode-notebook-cell://ssh-remote%2Briccardo-tesla/home/riccardo/value_max_ent/setup.ipynb#W1sdnNjb2RlLXJlbW90ZQ%3D%3D?line=19'>20</a>\u001b[0m     \u001b[39mreturn\u001b[39;00m f\n\u001b[1;32m     <a href='vscode-notebook-cell://ssh-remote%2Briccardo-tesla/home/riccardo/value_max_ent/setup.ipynb#W1sdnNjb2RlLXJlbW90ZQ%3D%3D?line=21'>22</a>\u001b[0m state_space \u001b[39m=\u001b[39m \u001b[39mlist\u001b[39m(product(np\u001b[39m.\u001b[39marange(\u001b[39m0\u001b[39m,\u001b[39m3\u001b[39m), np\u001b[39m.\u001b[39marange(\u001b[39m0\u001b[39m,\u001b[39m3\u001b[39m), np\u001b[39m.\u001b[39marange(\u001b[39m0\u001b[39m,\u001b[39m3\u001b[39m)))\n\u001b[0;32m---> <a href='vscode-notebook-cell://ssh-remote%2Briccardo-tesla/home/riccardo/value_max_ent/setup.ipynb#W1sdnNjb2RlLXJlbW90ZQ%3D%3D?line=24'>25</a>\u001b[0m \u001b[39mclass\u001b[39;00m \u001b[39mfeature_vector_generator\u001b[39;00m(\u001b[39mobject\u001b[39m):\n\u001b[1;32m     <a href='vscode-notebook-cell://ssh-remote%2Briccardo-tesla/home/riccardo/value_max_ent/setup.ipynb#W1sdnNjb2RlLXJlbW90ZQ%3D%3D?line=25'>26</a>\u001b[0m     f_S \u001b[39m=\u001b[39m \u001b[39mlist\u001b[39m()\n\u001b[1;32m     <a href='vscode-notebook-cell://ssh-remote%2Briccardo-tesla/home/riccardo/value_max_ent/setup.ipynb#W1sdnNjb2RlLXJlbW90ZQ%3D%3D?line=26'>27</a>\u001b[0m     f_S_set \u001b[39m=\u001b[39m state_space\n",
      "\u001b[1;32m/home/riccardo/value_max_ent/setup.ipynb Cell 2\u001b[0m in \u001b[0;36mfeature_vector_generator\u001b[0;34m()\u001b[0m\n\u001b[1;32m     <a href='vscode-notebook-cell://ssh-remote%2Briccardo-tesla/home/riccardo/value_max_ent/setup.ipynb#W1sdnNjb2RlLXJlbW90ZQ%3D%3D?line=31'>32</a>\u001b[0m sets \u001b[39m=\u001b[39m \u001b[39mlist\u001b[39m()\n\u001b[1;32m     <a href='vscode-notebook-cell://ssh-remote%2Briccardo-tesla/home/riccardo/value_max_ent/setup.ipynb#W1sdnNjb2RlLXJlbW90ZQ%3D%3D?line=32'>33</a>\u001b[0m \u001b[39mfor\u001b[39;00m state_n, val \u001b[39min\u001b[39;00m product(\u001b[39mrange\u001b[39m(\u001b[39m0\u001b[39m, \u001b[39m2\u001b[39m), \u001b[39mrange\u001b[39m(\u001b[39m0\u001b[39m, \u001b[39m3\u001b[39m)):\n\u001b[0;32m---> <a href='vscode-notebook-cell://ssh-remote%2Briccardo-tesla/home/riccardo/value_max_ent/setup.ipynb#W1sdnNjb2RlLXJlbW90ZQ%3D%3D?line=33'>34</a>\u001b[0m     sets\u001b[39m.\u001b[39mappend([x \u001b[39mfor\u001b[39;00m x \u001b[39min\u001b[39;00m state_space \u001b[39mif\u001b[39;00m x[state_n] \u001b[39m==\u001b[39m val])\n\u001b[1;32m     <a href='vscode-notebook-cell://ssh-remote%2Briccardo-tesla/home/riccardo/value_max_ent/setup.ipynb#W1sdnNjb2RlLXJlbW90ZQ%3D%3D?line=34'>35</a>\u001b[0m \u001b[39mfor\u001b[39;00m s \u001b[39min\u001b[39;00m sets:\n\u001b[1;32m     <a href='vscode-notebook-cell://ssh-remote%2Briccardo-tesla/home/riccardo/value_max_ent/setup.ipynb#W1sdnNjb2RlLXJlbW90ZQ%3D%3D?line=35'>36</a>\u001b[0m     pf \u001b[39m=\u001b[39m make_composite_partition_function(s)\n",
      "\u001b[1;32m/home/riccardo/value_max_ent/setup.ipynb Cell 2\u001b[0m in \u001b[0;36m<listcomp>\u001b[0;34m(.0)\u001b[0m\n\u001b[1;32m     <a href='vscode-notebook-cell://ssh-remote%2Briccardo-tesla/home/riccardo/value_max_ent/setup.ipynb#W1sdnNjb2RlLXJlbW90ZQ%3D%3D?line=31'>32</a>\u001b[0m sets \u001b[39m=\u001b[39m \u001b[39mlist\u001b[39m()\n\u001b[1;32m     <a href='vscode-notebook-cell://ssh-remote%2Briccardo-tesla/home/riccardo/value_max_ent/setup.ipynb#W1sdnNjb2RlLXJlbW90ZQ%3D%3D?line=32'>33</a>\u001b[0m \u001b[39mfor\u001b[39;00m state_n, val \u001b[39min\u001b[39;00m product(\u001b[39mrange\u001b[39m(\u001b[39m0\u001b[39m, \u001b[39m2\u001b[39m), \u001b[39mrange\u001b[39m(\u001b[39m0\u001b[39m, \u001b[39m3\u001b[39m)):\n\u001b[0;32m---> <a href='vscode-notebook-cell://ssh-remote%2Briccardo-tesla/home/riccardo/value_max_ent/setup.ipynb#W1sdnNjb2RlLXJlbW90ZQ%3D%3D?line=33'>34</a>\u001b[0m     sets\u001b[39m.\u001b[39mappend([x \u001b[39mfor\u001b[39;00m x \u001b[39min\u001b[39;00m state_space \u001b[39mif\u001b[39;00m x[state_n] \u001b[39m==\u001b[39m val])\n\u001b[1;32m     <a href='vscode-notebook-cell://ssh-remote%2Briccardo-tesla/home/riccardo/value_max_ent/setup.ipynb#W1sdnNjb2RlLXJlbW90ZQ%3D%3D?line=34'>35</a>\u001b[0m \u001b[39mfor\u001b[39;00m s \u001b[39min\u001b[39;00m sets:\n\u001b[1;32m     <a href='vscode-notebook-cell://ssh-remote%2Briccardo-tesla/home/riccardo/value_max_ent/setup.ipynb#W1sdnNjb2RlLXJlbW90ZQ%3D%3D?line=35'>36</a>\u001b[0m     pf \u001b[39m=\u001b[39m make_composite_partition_function(s)\n",
      "\u001b[0;31mNameError\u001b[0m: name 'state_n' is not defined"
     ]
    }
   ],
   "source": [
    "def make_per_state_partition_function(set):\n",
    "    def f(x, Set = set):\n",
    "        state, action, g = x[0], x[1], x[2]\n",
    "        return g,  Set if state in Set else 0\n",
    "    f.__name__ = str(set)\n",
    "    return f\n",
    "\n",
    "def make_composite_partition_function(set):\n",
    "    def f(x, Set = set):\n",
    "        state, action, g = x[0], x[1], x[2]\n",
    "        return g if state in Set else 0, Set \n",
    "    f.__name__ = str(set[0])\n",
    "    return f\n",
    "\n",
    "def make_non_partition_function():\n",
    "    def f(x):\n",
    "        state, action, g = x[0], x[1], x[2]\n",
    "        return g\n",
    "    f.__name__ = 'S'    \n",
    "    return f\n",
    "\n",
    "state_space = list(product(np.arange(0,3), np.arange(0,3), np.arange(0,3)))\n",
    "\n",
    "\n",
    "class feature_vector_generator(object):\n",
    "    f_S = list()\n",
    "    f_S_set = state_space\n",
    "    for s in f_S_set:\n",
    "        pf = make_per_state_partition_function(s)\n",
    "        f_S.append(pf)\n",
    "    f_1 = list()\n",
    "    sets = list()\n",
    "    for i, j in product(range(0, 2), range(0, 3)):\n",
    "        sets.append([x for x in state_space if x[i] == j])\n",
    "    for s in sets:\n",
    "        pf = make_composite_partition_function(s)\n",
    "        f_1.append(pf)\n",
    "    f_0 = list()\n",
    "    f_0.append(make_non_partition_function())\n",
    "\n",
    "\n",
    "l = feature_vector_generator.f_1"
   ]
  },
  {
   "cell_type": "code",
   "execution_count": 94,
   "metadata": {},
   "outputs": [
    {
     "data": {
      "text/plain": [
       "(4, 0)"
      ]
     },
     "execution_count": 94,
     "metadata": {},
     "output_type": "execute_result"
    }
   ],
   "source": [
    "sets = list()\n",
    "for i, j in product(range(0, 2), range(0, 3)):\n",
    "    sets.append([x for x in state_space if x[i] == j])\n",
    "len(sets)\n",
    "f_1 = list()\n",
    "for s in sets:\n",
    "    pf = make_composite_partition_function(s)\n",
    "    f_1.append(pf)\n",
    "f_1[0](((1,1,2), 3, 4))"
   ]
  },
  {
   "cell_type": "code",
   "execution_count": 17,
   "metadata": {},
   "outputs": [
    {
     "data": {
      "text/plain": [
       "[2.5, 2.5]"
      ]
     },
     "execution_count": 17,
     "metadata": {},
     "output_type": "execute_result"
    }
   ],
   "source": [
    "lambda_list = [lambda x: x, lambda y: y]\n",
    "samples = [2,3]\n",
    "[sum(lambda_el(samples))/len(samples) for lambda_el in lambda_list]\n",
    "\n"
   ]
  },
  {
   "cell_type": "code",
   "execution_count": 13,
   "metadata": {},
   "outputs": [
    {
     "data": {
      "text/plain": [
       "True"
      ]
     },
     "execution_count": 13,
     "metadata": {},
     "output_type": "execute_result"
    }
   ],
   "source": [
    "import numpy as np\n",
    "test = tuple(np.array([0,0,0]))\n",
    "set =[(0,0,0), (0,1,0)]\n",
    "test in set\n"
   ]
  }
 ],
 "metadata": {
  "kernelspec": {
   "display_name": "maxent",
   "language": "python",
   "name": "python3"
  },
  "language_info": {
   "codemirror_mode": {
    "name": "ipython",
    "version": 3
   },
   "file_extension": ".py",
   "mimetype": "text/x-python",
   "name": "python",
   "nbconvert_exporter": "python",
   "pygments_lexer": "ipython3",
   "version": "3.10.8"
  },
  "orig_nbformat": 4,
  "vscode": {
   "interpreter": {
    "hash": "bf03d02dd787d733cbe72815a07cc3b900899f64e2a841fdc0060656177e5d4b"
   }
  }
 },
 "nbformat": 4,
 "nbformat_minor": 2
}
